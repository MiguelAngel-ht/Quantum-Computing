{
  "nbformat": 4,
  "nbformat_minor": 0,
  "metadata": {
    "colab": {
      "name": "OTIMES_function_.ipynb",
      "provenance": [],
      "authorship_tag": "ABX9TyNdim8gZVUXjcroq0QTS/Ug",
      "include_colab_link": true
    },
    "kernelspec": {
      "name": "python3",
      "display_name": "Python 3"
    },
    "language_info": {
      "name": "python"
    }
  },
  "cells": [
    {
      "cell_type": "markdown",
      "metadata": {
        "id": "view-in-github",
        "colab_type": "text"
      },
      "source": [
        "<a href=\"https://colab.research.google.com/github/MiguelAngel-ht/Quantum-Computing/blob/main/OTIMES_function_.ipynb\" target=\"_parent\"><img src=\"https://colab.research.google.com/assets/colab-badge.svg\" alt=\"Open In Colab\"/></a>"
      ]
    },
    {
      "cell_type": "code",
      "execution_count": null,
      "metadata": {
        "id": "YdRXwyc-3z6O"
      },
      "outputs": [],
      "source": [
        "import numpy as np"
      ]
    },
    {
      "cell_type": "code",
      "source": [
        "v1 = np.array([[1,0]])\n",
        "v2 = v1.T"
      ],
      "metadata": {
        "id": "cPQbHttx4WHl"
      },
      "execution_count": null,
      "outputs": []
    },
    {
      "cell_type": "code",
      "source": [
        "print(v1)\n",
        "print(v2)"
      ],
      "metadata": {
        "colab": {
          "base_uri": "https://localhost:8080/"
        },
        "id": "wGZ1Ra_44oRu",
        "outputId": "69c42cad-d498-40ea-8611-fc019ed381c2"
      },
      "execution_count": null,
      "outputs": [
        {
          "output_type": "stream",
          "name": "stdout",
          "text": [
            "[[1 0]]\n",
            "[[1]\n",
            " [0]]\n"
          ]
        }
      ]
    },
    {
      "cell_type": "code",
      "source": [
        "def otimes(A,B):\n",
        "  N1 = np.array(np.shape(A))\n",
        "  N2 = np.array(np.shape(B))\n",
        "\n",
        "  C = np.zeros(N1*N2)\n",
        "\n",
        "  for i in range(N1[0]):\n",
        "    for j in range(N1[1]):\n",
        "      for k in range(N2[0]):\n",
        "        for l in range(N2[1]):\n",
        "          #print(N2[1]*(i)+k,N2[]*(j)+l)\n",
        "          C[N2[0]*(i)+k][N2[1]*(j)+l] = A[i][j]*B[k][l]\n",
        "  return C\n",
        "\n"
      ],
      "metadata": {
        "id": "AWNVb8CiDN-7"
      },
      "execution_count": null,
      "outputs": []
    },
    {
      "cell_type": "code",
      "source": [
        "N1 = np.array(np.shape(v1))\n",
        "N2 = np.array(np.shape(v3))\n",
        "C = np.zeros(N1*N2)\n",
        "C"
      ],
      "metadata": {
        "colab": {
          "base_uri": "https://localhost:8080/"
        },
        "id": "1b3ZCqBRHMWq",
        "outputId": "eead3550-48c7-4c81-ef06-96767e7828d3"
      },
      "execution_count": null,
      "outputs": [
        {
          "output_type": "execute_result",
          "data": {
            "text/plain": [
              "array([[0., 0., 0., 0.]])"
            ]
          },
          "metadata": {},
          "execution_count": 88
        }
      ]
    },
    {
      "cell_type": "code",
      "source": [
        "print(otimes(v1,v2))"
      ],
      "metadata": {
        "colab": {
          "base_uri": "https://localhost:8080/"
        },
        "id": "MHYLIN7tGutD",
        "outputId": "42922f9b-257c-4ebf-ee1c-d7a2d4403f36"
      },
      "execution_count": null,
      "outputs": [
        {
          "output_type": "stream",
          "name": "stdout",
          "text": [
            "[[1. 0.]\n",
            " [0. 0.]]\n"
          ]
        }
      ]
    }
  ]
}