{
  "nbformat": 4,
  "nbformat_minor": 0,
  "metadata": {
    "colab": {
      "name": "PartialTrace.ipynb",
      "provenance": [],
      "collapsed_sections": []
    },
    "kernelspec": {
      "name": "python3",
      "display_name": "Python 3"
    },
    "language_info": {
      "name": "python"
    }
  },
  "cells": [
    {
      "cell_type": "markdown",
      "source": [
        "[![Open In Colab](https://colab.research.google.com/assets/colab-badge.svg)](https://colab.research.google.com/drive/1iw3Zub-o5mAAklB4oew5v4VHiOauA0bH?usp=sharing)"
      ],
      "metadata": {
        "id": "89n1KUD1__B0"
      }
    },
    {
      "cell_type": "code",
      "execution_count": 4,
      "metadata": {
        "id": "YdRXwyc-3z6O"
      },
      "outputs": [],
      "source": [
        "import numpy as np"
      ]
    },
    {
      "cell_type": "code",
      "source": [
        "v1 = np.array([[1,0]])\n",
        "v2 = v1.T"
      ],
      "metadata": {
        "id": "cPQbHttx4WHl"
      },
      "execution_count": 5,
      "outputs": []
    },
    {
      "cell_type": "code",
      "source": [
        "print(v1)\n",
        "print(v2)"
      ],
      "metadata": {
        "colab": {
          "base_uri": "https://localhost:8080/"
        },
        "id": "wGZ1Ra_44oRu",
        "outputId": "0341d86e-ca27-4a03-ba95-20ad47c79b2b"
      },
      "execution_count": 6,
      "outputs": [
        {
          "output_type": "stream",
          "name": "stdout",
          "text": [
            "[[1 0]]\n",
            "[[1]\n",
            " [0]]\n"
          ]
        }
      ]
    },
    {
      "cell_type": "code",
      "source": [
        "def otimes(A,B):\n",
        "  N1 = np.array(np.shape(A))\n",
        "  N2 = np.array(np.shape(B))\n",
        "\n",
        "  C = np.zeros(N1*N2)\n",
        "\n",
        "  for i in range(N1[0]):\n",
        "    for j in range(N1[1]):\n",
        "      for k in range(N2[0]):\n",
        "        for l in range(N2[1]):\n",
        "          #print(N2[1]*(i)+k,N2[]*(j)+l)\n",
        "          C[N2[0]*(i)+k][N2[1]*(j)+l] = A[i][j]*B[k][l]\n",
        "  return C\n",
        "\n"
      ],
      "metadata": {
        "id": "AWNVb8CiDN-7"
      },
      "execution_count": 21,
      "outputs": []
    },
    {
      "cell_type": "code",
      "source": [
        "print(otimes(v1,v2))"
      ],
      "metadata": {
        "colab": {
          "base_uri": "https://localhost:8080/"
        },
        "id": "MHYLIN7tGutD",
        "outputId": "71e81464-d2b9-45c7-f6ff-aec762fc9057"
      },
      "execution_count": 64,
      "outputs": [
        {
          "output_type": "stream",
          "name": "stdout",
          "text": [
            "[[1. 0.]\n",
            " [0. 0.]]\n"
          ]
        }
      ]
    },
    {
      "cell_type": "code",
      "source": [
        "def partialTrace(A,No_base):\n",
        "  \n",
        "  n = int(len(A)/No_base)\n",
        "  ptrA = np.zeros((n,n))\n",
        "  u = np.identity(No_base).reshape(No_base,No_base,1)\n",
        "  I = np.identity(n)\n",
        "\n",
        "  for i in range(No_base):\n",
        "    product2 = otimes(u[i],I)\n",
        "    product1 = product2.T\n",
        "    ptrA = ptrA + np.matmul(np.matmul(product1, A), product2)\n",
        "\n",
        "  return ptrA"
      ],
      "metadata": {
        "id": "jSDQ12HG5PV1"
      },
      "execution_count": 67,
      "outputs": []
    },
    {
      "cell_type": "code",
      "source": [
        "A = np.random.randint(4, size=(6,6))\n",
        "print(A)\n",
        "print(partialTrace(A,2))"
      ],
      "metadata": {
        "colab": {
          "base_uri": "https://localhost:8080/"
        },
        "id": "v1JY4N12qg1D",
        "outputId": "b0ab7ebc-8681-457b-ab3e-9039818f327a"
      },
      "execution_count": 68,
      "outputs": [
        {
          "output_type": "stream",
          "name": "stdout",
          "text": [
            "[[0 0 0 0 3 0]\n",
            " [3 1 1 2 0 0]\n",
            " [3 2 2 0 1 3]\n",
            " [3 0 0 2 0 3]\n",
            " [0 1 1 1 0 2]\n",
            " [0 2 2 3 1 0]]\n",
            "[[2. 0. 3.]\n",
            " [4. 1. 3.]\n",
            " [6. 3. 2.]]\n"
          ]
        }
      ]
    }
  ]
}