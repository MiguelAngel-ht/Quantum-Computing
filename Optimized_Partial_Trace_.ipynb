{
  "nbformat": 4,
  "nbformat_minor": 0,
  "metadata": {
    "colab": {
      "provenance": [],
      "authorship_tag": "ABX9TyNobJMKK4k1Psd/2VIrpBfO",
      "include_colab_link": true
    },
    "kernelspec": {
      "name": "python3",
      "display_name": "Python 3"
    },
    "language_info": {
      "name": "python"
    }
  },
  "cells": [
    {
      "cell_type": "markdown",
      "metadata": {
        "id": "view-in-github",
        "colab_type": "text"
      },
      "source": [
        "<a href=\"https://colab.research.google.com/github/MiguelAngel-ht/Quantum-Computing/blob/main/Optimized_Partial_Trace_.ipynb\" target=\"_parent\"><img src=\"https://colab.research.google.com/assets/colab-badge.svg\" alt=\"Open In Colab\"/></a>"
      ]
    },
    {
      "cell_type": "code",
      "execution_count": null,
      "metadata": {
        "id": "YdRXwyc-3z6O"
      },
      "outputs": [],
      "source": [
        "import numpy as np"
      ]
    },
    {
      "cell_type": "code",
      "source": [
        "v1 = np.array([[1,0]])\n",
        "v2 = v1.T"
      ],
      "metadata": {
        "id": "cPQbHttx4WHl"
      },
      "execution_count": null,
      "outputs": []
    },
    {
      "cell_type": "code",
      "source": [
        "print(v1)\n",
        "print(v2)"
      ],
      "metadata": {
        "colab": {
          "base_uri": "https://localhost:8080/"
        },
        "id": "wGZ1Ra_44oRu",
        "outputId": "06755edf-e846-4ea0-e1b0-27fbbc2f1bc5"
      },
      "execution_count": null,
      "outputs": [
        {
          "output_type": "stream",
          "name": "stdout",
          "text": [
            "[[1 0]]\n",
            "[[1]\n",
            " [0]]\n"
          ]
        }
      ]
    },
    {
      "cell_type": "code",
      "source": [
        "def otimes(A,B):\n",
        "  N1 = np.array(np.shape(A))\n",
        "  N2 = np.array(np.shape(B))\n",
        "\n",
        "  C = np.zeros(N1*N2)\n",
        "\n",
        "  for i in range(N1[0]):\n",
        "    for j in range(N1[1]):\n",
        "      for k in range(N2[0]):\n",
        "        for l in range(N2[1]):\n",
        "          C[N2[0]*(i)+k][N2[1]*(j)+l] = A[i][j]*B[k][l]\n",
        "  return C\n",
        "\n"
      ],
      "metadata": {
        "id": "AWNVb8CiDN-7"
      },
      "execution_count": null,
      "outputs": []
    },
    {
      "cell_type": "code",
      "source": [
        "from datetime import datetime"
      ],
      "metadata": {
        "id": "4sUm4Oks3Xa0"
      },
      "execution_count": null,
      "outputs": []
    },
    {
      "cell_type": "code",
      "source": [
        "start_time = datetime.now()\n",
        "\n",
        "print(otimes(v1,v2))\n",
        "\n",
        "end_time = datetime.now()\n",
        "print('Duration: {}'.format(end_time - start_time))\n",
        "# np.kron()"
      ],
      "metadata": {
        "colab": {
          "base_uri": "https://localhost:8080/"
        },
        "id": "MHYLIN7tGutD",
        "outputId": "ae299776-0692-4a65-bbba-0cd6a5a97677"
      },
      "execution_count": null,
      "outputs": [
        {
          "output_type": "stream",
          "name": "stdout",
          "text": [
            "[[1. 0.]\n",
            " [0. 0.]]\n",
            "Duration: 0:00:00.000812\n"
          ]
        }
      ]
    },
    {
      "cell_type": "code",
      "source": [
        "start_time = datetime.now()\n",
        "\n",
        "print(np.kron(v1,v2))\n",
        "\n",
        "end_time = datetime.now()\n",
        "print('Duration: {}'.format(end_time - start_time))"
      ],
      "metadata": {
        "colab": {
          "base_uri": "https://localhost:8080/"
        },
        "id": "gXuyp30J4HM8",
        "outputId": "195b08d0-0005-414b-d52d-0df32e6f08a3"
      },
      "execution_count": null,
      "outputs": [
        {
          "output_type": "stream",
          "name": "stdout",
          "text": [
            "[[1 0]\n",
            " [0 0]]\n",
            "Duration: 0:00:00.000534\n"
          ]
        }
      ]
    },
    {
      "cell_type": "code",
      "source": [
        "def partial_trace0(A,base):     # ORIGINAL FUNCTION\n",
        "  \n",
        "  n = int(len(A)/base)\n",
        "  ptrA = np.full((n,n),0)\n",
        "  v = np.identity(base).reshape(base,base,1)   # (n,n,1) is for operations of matrix\n",
        "  I = np.identity(n)\n",
        "\n",
        "  try:\n",
        "    for i in range(base):\n",
        "      b = otimes(v[i],I)\n",
        "      ptrA = ptrA + np.matmul(np.matmul(b.T,A),b)\n",
        "  except:\n",
        "    print('The operation is not possible')\n",
        "\n",
        "  return ptrA"
      ],
      "metadata": {
        "id": "7ZNxe1qO55Tw"
      },
      "execution_count": 56,
      "outputs": []
    },
    {
      "cell_type": "code",
      "source": [
        "def partial_trace1(A,base):   # MOST ELEGANT AND FASTER FUNCTION\n",
        "  \n",
        "  n = int(len(A)/base)\n",
        "  ptrA = np.zeros((n,n))\n",
        "  v = np.eye(base).reshape(base,base,1)   # (n,n,1) is for operations of matrix\n",
        "  I = np.eye(n)\n",
        "\n",
        "  try:\n",
        "    for i in range(base):\n",
        "      b = np.kron(v[i],I)\n",
        "      ptrA += (b.T@A)@b\n",
        "  except:\n",
        "    print('The operation is not possible')\n",
        "\n",
        "  return ptrA"
      ],
      "metadata": {
        "id": "NfftM_l0Mlqw"
      },
      "execution_count": 65,
      "outputs": []
    },
    {
      "cell_type": "code",
      "source": [
        "A = np.random.randint(0,2,(10,10))"
      ],
      "metadata": {
        "id": "NzMh1EGu5XEj"
      },
      "execution_count": 66,
      "outputs": []
    },
    {
      "cell_type": "code",
      "source": [
        "start_time = datetime.now()\n",
        "\n",
        "print(partial_trace0(A,5))\n",
        "\n",
        "end_time = datetime.now()\n",
        "print('Duration: {}'.format(end_time - start_time))"
      ],
      "metadata": {
        "colab": {
          "base_uri": "https://localhost:8080/"
        },
        "id": "oqVlavM36PuP",
        "outputId": "7c225916-90b0-4606-aa1f-b42352dd94e1"
      },
      "execution_count": 67,
      "outputs": [
        {
          "output_type": "stream",
          "name": "stdout",
          "text": [
            "[[3. 2.]\n",
            " [2. 2.]]\n",
            "Duration: 0:00:00.003254\n"
          ]
        }
      ]
    },
    {
      "cell_type": "code",
      "source": [
        "start_time = datetime.now()\n",
        "\n",
        "print(partial_trace1(A,5))\n",
        "\n",
        "end_time = datetime.now()\n",
        "print('Duration: {}'.format(end_time - start_time))"
      ],
      "metadata": {
        "colab": {
          "base_uri": "https://localhost:8080/"
        },
        "id": "v1JY4N12qg1D",
        "outputId": "14214971-ea11-4e06-f421-75b2c69ef695"
      },
      "execution_count": 68,
      "outputs": [
        {
          "output_type": "stream",
          "name": "stdout",
          "text": [
            "[[3. 2.]\n",
            " [2. 2.]]\n",
            "Duration: 0:00:00.002211\n"
          ]
        }
      ]
    }
  ]
}