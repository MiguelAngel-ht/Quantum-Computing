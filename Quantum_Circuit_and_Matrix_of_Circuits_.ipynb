{
  "nbformat": 4,
  "nbformat_minor": 0,
  "metadata": {
    "colab": {
      "provenance": [],
      "collapsed_sections": [],
      "authorship_tag": "ABX9TyPy8r57flkfub4jjnLW6ZhO",
      "include_colab_link": true
    },
    "kernelspec": {
      "name": "python3",
      "display_name": "Python 3"
    },
    "language_info": {
      "name": "python"
    }
  },
  "cells": [
    {
      "cell_type": "markdown",
      "metadata": {
        "id": "view-in-github",
        "colab_type": "text"
      },
      "source": [
        "<a href=\"https://colab.research.google.com/github/MiguelAngel-ht/Quantum-Computing/blob/main/Quantum_Circuit_and_Matrix_of_Circuits_.ipynb\" target=\"_parent\"><img src=\"https://colab.research.google.com/assets/colab-badge.svg\" alt=\"Open In Colab\"/></a>"
      ]
    },
    {
      "cell_type": "markdown",
      "source": [
        "### Libraries"
      ],
      "metadata": {
        "id": "-iF_eTQ-p3OB"
      }
    },
    {
      "cell_type": "code",
      "execution_count": null,
      "metadata": {
        "id": "PBysPZmt-GOj"
      },
      "outputs": [],
      "source": [
        "from google.colab import output     # clear output when is not necessary"
      ]
    },
    {
      "cell_type": "code",
      "source": [
        "!pip install qiskit                   \n",
        "!pip install qiskit[visualization]   # Qiskit to parameter \"mpl\" works\n",
        "output.clear()"
      ],
      "metadata": {
        "id": "III-PNTi-MDk"
      },
      "execution_count": null,
      "outputs": []
    },
    {
      "cell_type": "code",
      "source": [
        "from qiskit import QuantumCircuit, execute, Aer # Designe QC, execute and use local simulator\n",
        "from qiskit.visualization import array_to_latex # Array to Latex\n",
        "from qiskit.quantum_info import Operator # Circuit to Matrix\n",
        "import numpy as np"
      ],
      "metadata": {
        "id": "8mbCCYGc-Ydi"
      },
      "execution_count": null,
      "outputs": []
    },
    {
      "cell_type": "markdown",
      "source": [
        "# On computer algebra application tosimulation of quantum computation\n",
        "\n",
        "\n",
        "![image.png](data:image/png;base64,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)"
      ],
      "metadata": {
        "id": "r9xPysSZolEh"
      }
    },
    {
      "cell_type": "markdown",
      "source": [
        "The equivalent circuit is designed in Qiskit:"
      ],
      "metadata": {
        "id": "jwufCNHlo7Xc"
      }
    },
    {
      "cell_type": "code",
      "source": [
        "# Create a quantum circuit with 3 qubits\n",
        "qc = QuantumCircuit(3)\n",
        "\n",
        "# Put gates\n",
        "qc.h(1)\n",
        "qc.h(2)\n",
        "qc.ccx(2,1,0) # https://qiskit.org/textbook/ch-gates/more-circuit-identities.html#4.-The-Toffoli-\n",
        "qc.h(0)\n",
        "qc.h(2)\n",
        "qc.ccx(0,1,2)\n",
        "output.clear()"
      ],
      "metadata": {
        "id": "6y-99VWY-bFh"
      },
      "execution_count": 14,
      "outputs": []
    },
    {
      "cell_type": "code",
      "source": [
        "qc.draw('mpl')"
      ],
      "metadata": {
        "colab": {
          "base_uri": "https://localhost:8080/",
          "height": 185
        },
        "id": "qNGbsG9c_Hxb",
        "outputId": "ce1fa764-a1d0-4a72-ffac-980a2b75586a"
      },
      "execution_count": 15,
      "outputs": [
        {
          "output_type": "execute_result",
          "data": {
            "text/plain": [
              "<Figure size 327.397x204.68 with 1 Axes>"
            ],
            "image/png": "[encoded data removed]"
          },
          "metadata": {},
          "execution_count": 15
        }
      ]
    },
    {
      "cell_type": "markdown",
      "source": [
        "Obtaining the matrix of circuit"
      ],
      "metadata": {
        "id": "7KQW2dBRpbQe"
      }
    },
    {
      "cell_type": "code",
      "source": [
        "op = Operator(qc)"
      ],
      "metadata": {
        "id": "dDWErMWYAJj8"
      },
      "execution_count": 16,
      "outputs": []
    },
    {
      "cell_type": "code",
      "source": [
        "matrix = op.data"
      ],
      "metadata": {
        "id": "WYszkKzEAMKP"
      },
      "execution_count": 17,
      "outputs": []
    },
    {
      "cell_type": "markdown",
      "source": [
        "This is the result"
      ],
      "metadata": {
        "id": "rIIheBoipi2N"
      }
    },
    {
      "cell_type": "code",
      "source": [
        "array_to_latex(matrix)"
      ],
      "metadata": {
        "colab": {
          "base_uri": "https://localhost:8080/",
          "height": 180
        },
        "id": "Bfa2dOWzfzYa",
        "outputId": "61f4a436-9fa3-4ecc-aa4d-79ca1a1745a9"
      },
      "execution_count": 18,
      "outputs": [
        {
          "output_type": "execute_result",
          "data": {
            "text/plain": [
              "<IPython.core.display.Latex object>"
            ],
            "text/latex": "$$\n\n\\begin{bmatrix}\n\\tfrac{1}{2} & \\tfrac{1}{2} & \\tfrac{1}{2} & \\tfrac{1}{2} & 0 & 0 & 0 & 0  \\\\\n \\tfrac{1}{2} & -\\tfrac{1}{2} & \\tfrac{1}{2} & -\\tfrac{1}{2} & 0 & 0 & 0 & 0  \\\\\n \\tfrac{1}{2} & \\tfrac{1}{2} & -\\tfrac{1}{2} & -\\tfrac{1}{2} & 0 & 0 & 0 & 0  \\\\\n \\tfrac{1}{2} & -\\tfrac{1}{2} & -\\tfrac{1}{2} & \\tfrac{1}{2} & 0 & 0 & 0 & 0  \\\\\n 0 & 0 & 0 & 0 & \\tfrac{1}{2} & \\tfrac{1}{2} & \\tfrac{1}{2} & \\tfrac{1}{2}  \\\\\n 0 & 0 & 0 & 0 & \\tfrac{1}{2} & -\\tfrac{1}{2} & \\tfrac{1}{2} & -\\tfrac{1}{2}  \\\\\n 0 & 0 & 0 & 0 & \\tfrac{1}{2} & \\tfrac{1}{2} & -\\tfrac{1}{2} & -\\tfrac{1}{2}  \\\\\n 0 & 0 & 0 & 0 & \\tfrac{1}{2} & -\\tfrac{1}{2} & -\\tfrac{1}{2} & \\tfrac{1}{2}  \\\\\n \\end{bmatrix}\n$$"
          },
          "metadata": {},
          "execution_count": 18
        }
      ]
    },
    {
      "cell_type": "markdown",
      "source": [
        "Reference:"
      ],
      "metadata": {
        "id": "L9-CcQKippF-"
      }
    },
    {
      "cell_type": "code",
      "source": [
        "# https://www.researchgate.net/publication/228564873_On_computer_algebra_application_to_simulation_of_quantum_computation"
      ],
      "metadata": {
        "id": "DDiR0i-LAf_D"
      },
      "execution_count": null,
      "outputs": []
    },
    {
      "cell_type": "markdown",
      "source": [
        "Another way to obtain this matrix"
      ],
      "metadata": {
        "id": "6FCWfBAopt58"
      }
    },
    {
      "cell_type": "code",
      "source": [
        "backend = Aer.get_backend('unitary_simulator') # use Local Simulator"
      ],
      "metadata": {
        "id": "yy_FHMVeEAsN"
      },
      "execution_count": null,
      "outputs": []
    },
    {
      "cell_type": "code",
      "source": [
        "job = execute(qc, backend) # Execution of circuit\n",
        "result = job.result() # Get the result\n",
        "array_to_latex(result.get_unitary(qc, decimals=3))  # Obtain Matrix from the result"
      ],
      "metadata": {
        "colab": {
          "base_uri": "https://localhost:8080/",
          "height": 180
        },
        "id": "lmtqxrdkD7Ua",
        "outputId": "f33983dc-e09a-41b8-af2a-8706d54cb359"
      },
      "execution_count": null,
      "outputs": [
        {
          "output_type": "execute_result",
          "data": {
            "text/plain": [
              "<IPython.core.display.Latex object>"
            ],
            "text/latex": "$$\n\n\\begin{bmatrix}\n\\tfrac{1}{2} & \\tfrac{1}{2} & \\tfrac{1}{2} & \\tfrac{1}{2} & 0 & 0 & 0 & 0  \\\\\n \\tfrac{1}{2} & -\\tfrac{1}{2} & \\tfrac{1}{2} & -\\tfrac{1}{2} & 0 & 0 & 0 & 0  \\\\\n \\tfrac{1}{2} & \\tfrac{1}{2} & -\\tfrac{1}{2} & -\\tfrac{1}{2} & 0 & 0 & 0 & 0  \\\\\n \\tfrac{1}{2} & -\\tfrac{1}{2} & -\\tfrac{1}{2} & \\tfrac{1}{2} & 0 & 0 & 0 & 0  \\\\\n 0 & 0 & 0 & 0 & \\tfrac{1}{2} & \\tfrac{1}{2} & \\tfrac{1}{2} & \\tfrac{1}{2}  \\\\\n 0 & 0 & 0 & 0 & \\tfrac{1}{2} & -\\tfrac{1}{2} & \\tfrac{1}{2} & -\\tfrac{1}{2}  \\\\\n 0 & 0 & 0 & 0 & \\tfrac{1}{2} & \\tfrac{1}{2} & -\\tfrac{1}{2} & -\\tfrac{1}{2}  \\\\\n 0 & 0 & 0 & 0 & \\tfrac{1}{2} & -\\tfrac{1}{2} & -\\tfrac{1}{2} & \\tfrac{1}{2}  \\\\\n \\end{bmatrix}\n$$"
          },
          "metadata": {},
          "execution_count": 137
        }
      ]
    },
    {
      "cell_type": "markdown",
      "source": [
        "# *Chapter 7* \n",
        "## **Unitary Transforms and Quantum Gates**\n",
        "*PROBLEMS AND SOLUTIONS IN QUANTUM COMPUTING AND QUANTUM INFORMATION 4th Edition*\n",
        "\n",
        "*William Hans Steeb and Yorick Hardy*\n",
        "\n",
        "#**Problem 2** \n",
        "\n",
        "\n",
        "\n",
        "*(a)* Let\n",
        "\n",
        "$M := \\frac{1}{\\sqrt2} \\begin{pmatrix} 1& i& 0& 0\\\\ 0& 0& i& 1\\\\ 0& 0& i& -1\\\\ 1& -i& 0& 0\\end{pmatrix} $\n",
        "\n",
        "Is the matrix $M$ unitary? In quantum computing $M$ is called the *magic\n",
        "gate*."
      ],
      "metadata": {
        "id": "vtfADoZ9QQv0"
      }
    },
    {
      "cell_type": "markdown",
      "source": [
        "*(b)* Let \n",
        "\n",
        "$U_H :=  \\frac{1}{\\sqrt{2}} \\begin{pmatrix} 1&  1  \\\\ 1&  -1 \\end{pmatrix}$,\n",
        "\n",
        "$U_S := \\begin{pmatrix} 1&  0  \\\\ 0&  i \\end{pmatrix}$\n",
        "\n",
        "and\n",
        "\n",
        "$U_{CNOT2} := \\begin{pmatrix} 1& 0& 0& 0\\\\ 0& 0& 0& 1\\\\ 0& 0& 1& 0\\\\ 0& 1& 0& 0\\end{pmatrix} $\n",
        "\n",
        "Show that the matrix $M$ can be written as\n",
        "\n",
        "$M = U_{CNOT2}(I_2 ⊗ U_H)(U_S ⊗ U_S).$"
      ],
      "metadata": {
        "id": "XOwD_MrwqC_I"
      }
    },
    {
      "cell_type": "markdown",
      "source": [
        "----\n",
        "\n",
        "**Solution** \n",
        "\n",
        "**(b)** First we create a equivalent circuit without $U_{CNOT2}$"
      ],
      "metadata": {
        "id": "qe0vz5KmtV1n"
      }
    },
    {
      "cell_type": "code",
      "source": [
        "# Create a quantum circuit\n",
        "qc = QuantumCircuit(2)\n",
        "\n",
        "# ADD QUANTUM GATES\n",
        "qc.s(0)\n",
        "qc.s(1)\n",
        "qc.h(0)\n",
        "qc.cx(0,1)\n",
        "output.clear()"
      ],
      "metadata": {
        "id": "4AKuVcpMEnds"
      },
      "execution_count": 25,
      "outputs": []
    },
    {
      "cell_type": "code",
      "source": [
        "qc.draw('mpl')"
      ],
      "metadata": {
        "colab": {
          "base_uri": "https://localhost:8080/",
          "height": 140
        },
        "id": "6qTZcGbtEnjJ",
        "outputId": "a3a49eea-4a7b-4551-8788-121be5f10cdd"
      },
      "execution_count": 26,
      "outputs": [
        {
          "output_type": "execute_result",
          "data": {
            "text/plain": [
              "<Figure size 267.052x144.48 with 1 Axes>"
            ],
            "image/png": "[encoded data removed]"
          },
          "metadata": {},
          "execution_count": 26
        }
      ]
    },
    {
      "cell_type": "markdown",
      "source": [
        "Obtaining matrix of the quantum circuit"
      ],
      "metadata": {
        "id": "2BlGn59pt7eQ"
      }
    },
    {
      "cell_type": "code",
      "source": [
        "M = Operator(qc).data   # Circuit to Matrix and to numpy array"
      ],
      "metadata": {
        "id": "DFx12uFbHOBm"
      },
      "execution_count": 29,
      "outputs": []
    },
    {
      "cell_type": "markdown",
      "source": [
        "Result of operation"
      ],
      "metadata": {
        "id": "51BeYBAHucCi"
      }
    },
    {
      "cell_type": "code",
      "source": [
        "array_to_latex(M)"
      ],
      "metadata": {
        "colab": {
          "base_uri": "https://localhost:8080/",
          "height": 111
        },
        "id": "jOsvsHp2PBzA",
        "outputId": "719a788d-7cac-41e8-99d7-bf9f7fb91dcc"
      },
      "execution_count": 30,
      "outputs": [
        {
          "output_type": "execute_result",
          "data": {
            "text/plain": [
              "<IPython.core.display.Latex object>"
            ],
            "text/latex": "$$\n\n\\begin{bmatrix}\n\\tfrac{1}{\\sqrt{2}} & \\tfrac{1}{\\sqrt{2}}i & 0 & 0  \\\\\n 0 & 0 & \\tfrac{1}{\\sqrt{2}}i & \\tfrac{1}{\\sqrt{2}}  \\\\\n 0 & 0 & \\tfrac{1}{\\sqrt{2}}i & -\\tfrac{1}{\\sqrt{2}}  \\\\\n \\tfrac{1}{\\sqrt{2}} & -\\tfrac{1}{\\sqrt{2}}i & 0 & 0  \\\\\n \\end{bmatrix}\n$$"
          },
          "metadata": {},
          "execution_count": 30
        }
      ]
    },
    {
      "cell_type": "markdown",
      "source": [
        "The result is equal of *Magic Gate*."
      ],
      "metadata": {
        "id": "cCJm1M4WuhYW"
      }
    },
    {
      "cell_type": "markdown",
      "source": [
        "**(a)** Now, we verify if this matrix is unitary computing \n",
        "$M M^{-1}$"
      ],
      "metadata": {
        "id": "pJiL4GlhvW61"
      }
    },
    {
      "cell_type": "code",
      "source": [
        "# np.matrix is to calculate the inverse with the method .I\n",
        "array_to_latex(np.matrix(M).I @ M)     "
      ],
      "metadata": {
        "colab": {
          "base_uri": "https://localhost:8080/",
          "height": 99
        },
        "id": "-Q8Q-YhSs7H3",
        "outputId": "e189277e-2cd7-4ca5-f621-a01fb6379554"
      },
      "execution_count": 31,
      "outputs": [
        {
          "output_type": "execute_result",
          "data": {
            "text/plain": [
              "<IPython.core.display.Latex object>"
            ],
            "text/latex": "$$\n\n\\begin{bmatrix}\n1 & 0 & 0 & 0  \\\\\n 0 & 1 & 0 & 0  \\\\\n 0 & 0 & 1 & 0  \\\\\n 0 & 0 & 0 & 1  \\\\\n \\end{bmatrix}\n$$"
          },
          "metadata": {},
          "execution_count": 31
        }
      ]
    },
    {
      "cell_type": "markdown",
      "source": [
        "The result is $M M^{-1} = I_4$, then is unitary."
      ],
      "metadata": {
        "id": "PrMscoBQv7p1"
      }
    }
  ]
}