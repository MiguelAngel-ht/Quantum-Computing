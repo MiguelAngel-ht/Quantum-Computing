{
  "nbformat": 4,
  "nbformat_minor": 0,
  "metadata": {
    "colab": {
      "provenance": [],
      "authorship_tag": "ABX9TyMa2kgE4OmoPLU+aOcUH+IW",
      "include_colab_link": true
    },
    "kernelspec": {
      "name": "python3",
      "display_name": "Python 3"
    },
    "language_info": {
      "name": "python"
    }
  },
  "cells": [
    {
      "cell_type": "markdown",
      "metadata": {
        "id": "view-in-github",
        "colab_type": "text"
      },
      "source": [
        "<a href=\"https://colab.research.google.com/github/MiguelAngel-ht/Quantum-Computing/blob/main/Circuit_Simulation_.ipynb\" target=\"_parent\"><img src=\"https://colab.research.google.com/assets/colab-badge.svg\" alt=\"Open In Colab\"/></a>"
      ]
    },
    {
      "cell_type": "code",
      "source": [
        "from google.colab import output     # clear output when is not necessary"
      ],
      "metadata": {
        "id": "ALeDsP5D-AcM"
      },
      "execution_count": 3,
      "outputs": []
    },
    {
      "cell_type": "code",
      "source": [
        "!pip install qiskit                   \n",
        "!pip install qiskit[visualization]   # Qiskit to parameter \"mpl\" works in colab\n",
        "output.clear()"
      ],
      "metadata": {
        "id": "Hl4qIvJs-PBk"
      },
      "execution_count": null,
      "outputs": []
    },
    {
      "cell_type": "code",
      "source": [
        "from qiskit import QuantumCircuit, execute, Aer\n",
        "from qiskit.visualization import plot_histogram, array_to_latex\n",
        "from qiskit.quantum_info import Statevector"
      ],
      "metadata": {
        "id": "kKJjLQqE96EA"
      },
      "execution_count": 17,
      "outputs": []
    },
    {
      "cell_type": "code",
      "execution_count": 39,
      "metadata": {
        "colab": {
          "base_uri": "https://localhost:8080/"
        },
        "id": "kqmuCxP58-Z8",
        "outputId": "6d94eb8b-3ab7-42c2-ff76-d56d62d8f979"
      },
      "outputs": [
        {
          "output_type": "execute_result",
          "data": {
            "text/plain": [
              "<qiskit.circuit.instructionset.InstructionSet at 0x7ff9651d16d0>"
            ]
          },
          "metadata": {},
          "execution_count": 39
        }
      ],
      "source": [
        "# Create a quantum circuit with one qubit\n",
        "qc = QuantumCircuit(3)\n",
        "\n",
        "# Apply the Hadamard gate\n",
        "qc.h(0)\n",
        "qc.h(1)\n",
        "qc.cx(0, 2)\n",
        "qc.z(1)\n",
        "qc.cx(2, 0)\n",
        "qc.x(1)"
      ]
    },
    {
      "cell_type": "code",
      "source": [
        "qc.draw('mpl')"
      ],
      "metadata": {
        "colab": {
          "base_uri": "https://localhost:8080/",
          "height": 185
        },
        "id": "2FwYgaNAE-c-",
        "outputId": "9ad61f59-8323-414b-be7f-e5839b48082a"
      },
      "execution_count": 40,
      "outputs": [
        {
          "output_type": "execute_result",
          "data": {
            "text/plain": [
              "<Figure size 387.597x204.68 with 1 Axes>"
            ],
            "image/png": "[encoded data removed]"
          },
          "metadata": {},
          "execution_count": 40
        }
      ]
    },
    {
      "cell_type": "code",
      "source": [
        "# Tell Qiskit how to simulate our circuit\n",
        "backend = Aer.get_backend('statevector_simulator') \n",
        "\n",
        "# Do the simulation, returning the result\n",
        "result = execute(qc,backend).result()"
      ],
      "metadata": {
        "id": "7fWyxSv0-3rV"
      },
      "execution_count": 41,
      "outputs": []
    },
    {
      "cell_type": "code",
      "source": [
        "state = Statevector.from_int(0, 2**3)\n",
        "state = state.evolve(qc)\n",
        "state.draw('latex')"
      ],
      "metadata": {
        "colab": {
          "base_uri": "https://localhost:8080/",
          "height": 38
        },
        "id": "o8zCSUTIBDCg",
        "outputId": "f0c6a32a-9f8b-4df3-d775-bf45f27fd179"
      },
      "execution_count": 42,
      "outputs": [
        {
          "output_type": "execute_result",
          "data": {
            "text/plain": [
              "<IPython.core.display.Latex object>"
            ],
            "text/latex": "$$- \\frac{1}{2} |000\\rangle+\\frac{1}{2} |010\\rangle- \\frac{1}{2} |100\\rangle+\\frac{1}{2} |110\\rangle$$"
          },
          "metadata": {},
          "execution_count": 42
        }
      ]
    },
    {
      "cell_type": "code",
      "source": [
        "#Alternative way of representing in latex\n",
        "array_to_latex(state)"
      ],
      "metadata": {
        "colab": {
          "base_uri": "https://localhost:8080/",
          "height": 39
        },
        "id": "HwkrRU8ZDEXl",
        "outputId": "a81c1d72-f9aa-45ec-b332-55d6fb032476"
      },
      "execution_count": 43,
      "outputs": [
        {
          "output_type": "execute_result",
          "data": {
            "text/plain": [
              "<IPython.core.display.Latex object>"
            ],
            "text/latex": "$$\n\n\\begin{bmatrix}\n-\\tfrac{1}{2} & 0 & \\tfrac{1}{2} & 0 & -\\tfrac{1}{2} & 0 & \\tfrac{1}{2} & 0  \\\\\n \\end{bmatrix}\n$$"
          },
          "metadata": {},
          "execution_count": 43
        }
      ]
    },
    {
      "cell_type": "code",
      "source": [
        "# get the probability distribution\n",
        "counts = result.get_counts()\n",
        "\n",
        "# Show the histogram\n",
        "plot_histogram(counts)"
      ],
      "metadata": {
        "colab": {
          "base_uri": "https://localhost:8080/",
          "height": 345
        },
        "id": "G9llisO8-6ot",
        "outputId": "66bd0564-b192-49ec-9b5d-607aad8eb880"
      },
      "execution_count": 44,
      "outputs": [
        {
          "output_type": "execute_result",
          "data": {
            "text/plain": [
              "<Figure size 504x360 with 1 Axes>"
            ],
            "image/png": "[encoded data removed]"
          },
          "metadata": {},
          "execution_count": 44
        }
      ]
    }
  ]
}