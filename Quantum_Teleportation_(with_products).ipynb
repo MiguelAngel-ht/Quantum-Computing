{
  "nbformat": 4,
  "nbformat_minor": 0,
  "metadata": {
    "colab": {
      "provenance": [],
      "authorship_tag": "ABX9TyOxgKhoxbKnCTKxIXdpJR0A",
      "include_colab_link": true
    },
    "kernelspec": {
      "name": "python3",
      "display_name": "Python 3"
    },
    "language_info": {
      "name": "python"
    }
  },
  "cells": [
    {
      "cell_type": "markdown",
      "metadata": {
        "id": "view-in-github",
        "colab_type": "text"
      },
      "source": [
        "<a href=\"https://colab.research.google.com/github/MiguelAngel-ht/Quantum-Computing/blob/main/Quantum_Teleportation_(with_products).ipynb\" target=\"_parent\"><img src=\"https://colab.research.google.com/assets/colab-badge.svg\" alt=\"Open In Colab\"/></a>"
      ]
    },
    {
      "cell_type": "markdown",
      "source": [
        "# **Quantum Teleportation**\n",
        "\n",
        "Teleportation is the transmission of quantum information using a classical channel and entanglement. \n",
        "\n",
        "Cause this transmission is with a classical channel, the information can´t be faster than light speed.\n"
      ],
      "metadata": {
        "id": "tnuDfJ-fCKXW"
      }
    },
    {
      "cell_type": "code",
      "execution_count": 1,
      "metadata": {
        "id": "PLyy7yn3CQUP"
      },
      "outputs": [],
      "source": [
        "import numpy as np"
      ]
    },
    {
      "cell_type": "markdown",
      "source": [
        "**Problem 4.** In quantum teleportation we start with the following state in the Hilbert space $\\mathbb{C}^8$\n",
        "\n",
        "$A_0 = |Ψ \\rangle$\n",
        "\n",
        "$B_0 = |0 \\rangle$\n",
        "\n",
        "$C_0 = |0 \\rangle$\n",
        "\n",
        "$E_0 = |Ψ \\rangle ⊗ |0 \\rangle ⊗ |0 \\rangle $"
      ],
      "metadata": {
        "id": "yOBA6NouKQOQ"
      }
    },
    {
      "cell_type": "code",
      "source": [
        "theta = 2.1\n",
        "phi = np.pi\n",
        "A0 = np.array([[np.cos(theta)],[np.sin(theta)*np.exp(1j*phi)]])\n",
        "B0 = np.array([[1],[0]]) \n",
        "C0 = np.array([[1],[0]])"
      ],
      "metadata": {
        "id": "bY6wjcPkDB6S"
      },
      "execution_count": 2,
      "outputs": []
    },
    {
      "cell_type": "code",
      "source": [
        "# Initial State\n",
        "\n",
        "E0 = np.kron(np.kron(A0,B0),C0)\n",
        "np.round(E0, 3)"
      ],
      "metadata": {
        "colab": {
          "base_uri": "https://localhost:8080/"
        },
        "id": "WMEp9A8ID1S3",
        "outputId": "f10de065-c145-4984-e700-23e61fea7687"
      },
      "execution_count": 3,
      "outputs": [
        {
          "output_type": "execute_result",
          "data": {
            "text/plain": [
              "array([[-0.505+0.j],\n",
              "       [-0.   +0.j],\n",
              "       [-0.   +0.j],\n",
              "       [-0.   +0.j],\n",
              "       [-0.863+0.j],\n",
              "       [-0.   +0.j],\n",
              "       [-0.   +0.j],\n",
              "       [-0.   +0.j]])"
            ]
          },
          "metadata": {},
          "execution_count": 3
        }
      ]
    },
    {
      "cell_type": "markdown",
      "source": [
        "The quantum circuit for teleportation is given by\n",
        "![image.png](data:image/png;base64,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)"
      ],
      "metadata": {
        "id": "oLdHRiN8Mi67"
      }
    },
    {
      "cell_type": "code",
      "source": [
        "# Common Gates\n",
        "\n",
        "I2 = np.array([[1,0],[0,1]])\n",
        "ox = np.array([[0,1],[1,0]])\n",
        "oy = np.array([[0,-1j],[1j,0]])\n",
        "oz = np.array([[1,0],[0,-1]])"
      ],
      "metadata": {
        "id": "fhVB0tYAGBQn"
      },
      "execution_count": 4,
      "outputs": []
    },
    {
      "cell_type": "code",
      "source": [
        "# HADAMMAR, XOR AND NOT GATES\n",
        "\n",
        "U_H = (1/np.sqrt(2)) * np.array([[1,1],[1,-1]]) \n",
        "U_XOR = np.array([[1,0,0,0],[0,1,0,0],[0,0,0,1],[0,0,1,0]])\n",
        "U_NOT = ox"
      ],
      "metadata": {
        "id": "TPlchL0QH2vG"
      },
      "execution_count": 5,
      "outputs": []
    },
    {
      "cell_type": "markdown",
      "source": [
        "Let be\n",
        "\n",
        "$U_1 = I_2 \\otimes U_H ⊗ I_2$\n",
        "\n",
        "$U_2 = I_2 \\otimes U_{XOR}$\n",
        "\n",
        "$U_3 = U_{XOR} ⊗ I_2$\n",
        "\n",
        "$U_4 = U_H ⊗ I_2 ⊗ I_2$\n",
        "\n",
        "$U_5 = I_2 ⊗ U_{XOR}$\n",
        "\n",
        "$U_6 = I_2 \\otimes I_2  ⊗ U_H$\n",
        "\n",
        "$U_7 = I_4 ⊕ U_{NOT} ⊕ U_{NOT}$\n",
        "\n",
        "$U_6 = I_2 \\otimes I_2  ⊗ U_H$\n",
        "\n",
        "\n",
        "**i)** Find $U_8 U_7 U_6 U_5 U_4 U_3 U_2 U_1|ψ00⟩$."
      ],
      "metadata": {
        "id": "k4wSNuL9Gea3"
      }
    },
    {
      "cell_type": "code",
      "source": [
        "# FUNCTION OF DIRECT SUM\n",
        "\n",
        "def direct_sum(rep1,rep2):\n",
        "  n1 = len(rep1)\n",
        "  n2 = len(rep2)\n",
        "  cv = np.zeros((n1,n2))          # A⊕B = ( A  0 )\n",
        "  ch = np.zeros((n2,n1))          #        ( 0  B )\n",
        " \n",
        "  aux1 = np.concatenate([rep1,cv],1)  # --> ( A  0 ) \n",
        "  aux2 = np.concatenate([ch,rep2],1)  # --> ( 0  B )\n",
        "  res = np.concatenate([aux1,aux2])   # --> A⊕B\n",
        "\n",
        "  return res"
      ],
      "metadata": {
        "id": "m6Q9ThJ_CuY7"
      },
      "execution_count": 6,
      "outputs": []
    },
    {
      "cell_type": "code",
      "source": [
        "# OPERATIONS\n",
        "\n",
        "U_1 = np.kron(np.kron(I2,U_H),I2)\n",
        "U_2 = np.kron(I2,U_XOR)\n",
        "U_3 = np.kron(U_XOR,I2)\n",
        "U_4 = np.kron(np.kron(U_H,I2),I2)\n",
        "U_5 = U_2\n",
        "I4 = np.kron(I2,I2)\n",
        "U_6 = np.kron(I4,U_H)\n",
        "U_7 = direct_sum(I4,direct_sum(U_NOT,U_NOT))\n",
        "U_8 = U_6"
      ],
      "metadata": {
        "id": "mIY2pUQDJY_Z"
      },
      "execution_count": 7,
      "outputs": []
    },
    {
      "cell_type": "code",
      "source": [
        "# FINAL CALCULATION\n",
        "\n",
        "U = U_8 @ U_7 @ U_6 @ U_5 @ U_4 @ U_3 @ U_2 @ U_1 @ E0 \n",
        "np.round(U, 3)"
      ],
      "metadata": {
        "colab": {
          "base_uri": "https://localhost:8080/"
        },
        "id": "HkHkeh5JLMXv",
        "outputId": "59b9ddd3-3b7b-4bdd-f8dc-dd71e366e686"
      },
      "execution_count": 9,
      "outputs": [
        {
          "output_type": "execute_result",
          "data": {
            "text/plain": [
              "array([[-0.252-0.j],\n",
              "       [-0.432+0.j],\n",
              "       [-0.252-0.j],\n",
              "       [-0.432+0.j],\n",
              "       [-0.252+0.j],\n",
              "       [-0.432+0.j],\n",
              "       [-0.252+0.j],\n",
              "       [-0.432+0.j]])"
            ]
          },
          "metadata": {},
          "execution_count": 9
        }
      ]
    },
    {
      "cell_type": "markdown",
      "source": [
        "## **Referenc of Problem**\n",
        "\n",
        "\n",
        "**[1] Steeb, W., & Hardy, Y. (2018, 13 febrero). Problems And Solutions In Quantum Computing And Quantum Information (4Th Edition) (4th Edition). WSPC. pag 313.*"
      ],
      "metadata": {
        "id": "6fqfUMUaFr-R"
      }
    }
  ]
}