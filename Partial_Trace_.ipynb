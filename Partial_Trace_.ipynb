{
  "nbformat": 4,
  "nbformat_minor": 0,
  "metadata": {
    "colab": {
      "name": "Partial_Trace_.ipynb",
      "provenance": [],
      "authorship_tag": "ABX9TyP8XXUoG3EQKHgV1U+rCPBZ",
      "include_colab_link": true
    },
    "kernelspec": {
      "name": "python3",
      "display_name": "Python 3"
    },
    "language_info": {
      "name": "python"
    }
  },
  "cells": [
    {
      "cell_type": "markdown",
      "metadata": {
        "id": "view-in-github",
        "colab_type": "text"
      },
      "source": [
        "<a href=\"https://colab.research.google.com/github/MiguelAngel-ht/Quantum-Computing/blob/main/Partial_Trace_.ipynb\" target=\"_parent\"><img src=\"https://colab.research.google.com/assets/colab-badge.svg\" alt=\"Open In Colab\"/></a>"
      ]
    },
    {
      "cell_type": "code",
      "execution_count": 1,
      "metadata": {
        "id": "YdRXwyc-3z6O"
      },
      "outputs": [],
      "source": [
        "import numpy as np"
      ]
    },
    {
      "cell_type": "code",
      "source": [
        "v1 = np.array([[1,0]])\n",
        "v2 = v1.T"
      ],
      "metadata": {
        "id": "cPQbHttx4WHl"
      },
      "execution_count": 2,
      "outputs": []
    },
    {
      "cell_type": "code",
      "source": [
        "print(v1)\n",
        "print(v2)"
      ],
      "metadata": {
        "colab": {
          "base_uri": "https://localhost:8080/"
        },
        "id": "wGZ1Ra_44oRu",
        "outputId": "70163284-8e50-4a73-ace8-c418885f1d1b"
      },
      "execution_count": 3,
      "outputs": [
        {
          "output_type": "stream",
          "name": "stdout",
          "text": [
            "[[1 0]]\n",
            "[[1]\n",
            " [0]]\n"
          ]
        }
      ]
    },
    {
      "cell_type": "code",
      "source": [
        "def otimes(A,B):\n",
        "  N1 = np.array(np.shape(A))\n",
        "  N2 = np.array(np.shape(B))\n",
        "\n",
        "  C = np.zeros(N1*N2)\n",
        "\n",
        "  for i in range(N1[0]):\n",
        "    for j in range(N1[1]):\n",
        "      for k in range(N2[0]):\n",
        "        for l in range(N2[1]):\n",
        "          #print(N2[1]*(i)+k,N2[]*(j)+l)\n",
        "          C[N2[0]*(i)+k][N2[1]*(j)+l] = A[i][j]*B[k][l]\n",
        "  return C\n",
        "\n"
      ],
      "metadata": {
        "id": "AWNVb8CiDN-7"
      },
      "execution_count": 4,
      "outputs": []
    },
    {
      "cell_type": "code",
      "source": [
        "print(otimes(v1,v2))"
      ],
      "metadata": {
        "colab": {
          "base_uri": "https://localhost:8080/"
        },
        "id": "MHYLIN7tGutD",
        "outputId": "f784f48e-b4ab-4045-e9b2-d026d57dfb55"
      },
      "execution_count": 5,
      "outputs": [
        {
          "output_type": "stream",
          "name": "stdout",
          "text": [
            "[[1. 0.]\n",
            " [0. 0.]]\n"
          ]
        }
      ]
    },
    {
      "cell_type": "code",
      "source": [
        "def partial_trace(A,base):\n",
        "  \n",
        "  n = int(len(A)/base)\n",
        "  ptrA = np.full((n,n),0)\n",
        "  v = np.identity(base).reshape(base,base,1)   # (n,n,1) is for operations of matrix\n",
        "  I = np.identity(n)\n",
        "\n",
        "  try:\n",
        "    for i in range(base):\n",
        "      ptrA = ptrA + np.matmul(np.matmul(otimes(v[i],I).T, A), otimes(v[i],I))\n",
        "  except:\n",
        "    print('The operation is not possible')\n",
        "\n",
        "  return ptrA"
      ],
      "metadata": {
        "id": "NfftM_l0Mlqw"
      },
      "execution_count": 6,
      "outputs": []
    },
    {
      "cell_type": "code",
      "source": [
        "A = np.full((6,6),0)\n",
        "for i in range(6):\n",
        "  for j in range(6):\n",
        "    A[i][j] = np.random.randint(0,2)\n",
        "\n",
        "partial_trace(A,3)"
      ],
      "metadata": {
        "colab": {
          "base_uri": "https://localhost:8080/"
        },
        "id": "v1JY4N12qg1D",
        "outputId": "8d4a3c97-82c2-40c7-e821-ba3bf7d8b0af"
      },
      "execution_count": 7,
      "outputs": [
        {
          "output_type": "execute_result",
          "data": {
            "text/plain": [
              "array([[1., 2.],\n",
              "       [1., 1.]])"
            ]
          },
          "metadata": {},
          "execution_count": 7
        }
      ]
    }
  ]
}